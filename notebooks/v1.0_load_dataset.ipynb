{
 "cells": [
  {
   "cell_type": "markdown",
   "id": "60096e35",
   "metadata": {},
   "source": [
    "# FOOTBALL HACKATHON\n"
   ]
  },
  {
   "cell_type": "markdown",
   "id": "b164cb5e",
   "metadata": {},
   "source": [
    "# 0.0. IMPORTS"
   ]
  },
  {
   "cell_type": "code",
   "execution_count": 10,
   "id": "8e386a29",
   "metadata": {},
   "outputs": [],
   "source": [
    "import pandas                                    as pd\n",
    "import seaborn                                   as sns\n",
    "\n",
    "from matplotlib                    import pyplot as plt\n",
    "from IPython.core.display          import HTML\n",
    "\n"
   ]
  },
  {
   "cell_type": "markdown",
   "id": "d4ee3e25",
   "metadata": {},
   "source": [
    "## 0.1. Helper Functions "
   ]
  },
  {
   "cell_type": "code",
   "execution_count": 11,
   "id": "32aeb71e",
   "metadata": {},
   "outputs": [],
   "source": [
    "def my_settings():\n",
    "    %matplotlib inline\n",
    "    \n",
    "    # plotly settings\n",
    "    plt.style.use( 'ggplot' )\n",
    "    plt.rcParams['figure.figsize'] = [25, 12]\n",
    "    plt.rcParams['font.size'] = 8\n",
    " \n",
    "    # notebook settings\n",
    "    display(HTML('<style>.container{width:100% !important;}</style>'))\n",
    "    np.set_printoptions(suppress=True)\n",
    "    pd.set_option('display.float_format', '{:.2f}'.format)\n",
    "    \n",
    "    # seaborn settings\n",
    "    sns.set(rc={'figure.figsize':(25,12)})\n",
    "    sns.set_theme(style = 'darkgrid', font_scale = 1)"
   ]
  },
  {
   "cell_type": "code",
   "execution_count": 12,
   "id": "77885285",
   "metadata": {},
   "outputs": [
    {
     "data": {
      "text/html": [
       "<style>.container{width:100% !important;}</style>"
      ],
      "text/plain": [
       "<IPython.core.display.HTML object>"
      ]
     },
     "metadata": {},
     "output_type": "display_data"
    }
   ],
   "source": [
    "my_settings()"
   ]
  },
  {
   "cell_type": "markdown",
   "id": "5375c27c",
   "metadata": {},
   "source": [
    "## 0.2. Load Dataset"
   ]
  },
  {
   "cell_type": "code",
   "execution_count": 14,
   "id": "0b926f31",
   "metadata": {},
   "outputs": [],
   "source": [
    "test_dataset = pd.read_csv(r'../data/raw/test.csv')"
   ]
  },
  {
   "cell_type": "code",
   "execution_count": 27,
   "id": "f12ea16f",
   "metadata": {},
   "outputs": [
    {
     "data": {
      "text/html": [
       "<div>\n",
       "<style scoped>\n",
       "    .dataframe tbody tr th:only-of-type {\n",
       "        vertical-align: middle;\n",
       "    }\n",
       "\n",
       "    .dataframe tbody tr th {\n",
       "        vertical-align: top;\n",
       "    }\n",
       "\n",
       "    .dataframe thead th {\n",
       "        text-align: right;\n",
       "    }\n",
       "</style>\n",
       "<table border=\"1\" class=\"dataframe\">\n",
       "  <thead>\n",
       "    <tr style=\"text-align: right;\">\n",
       "      <th></th>\n",
       "      <th>row_id</th>\n",
       "      <th>scout_id</th>\n",
       "      <th>winner</th>\n",
       "      <th>team</th>\n",
       "      <th>competitionId</th>\n",
       "      <th>player_position_1</th>\n",
       "      <th>player_position_2</th>\n",
       "      <th>player_height</th>\n",
       "      <th>player_weight</th>\n",
       "      <th>player_general_var_0</th>\n",
       "      <th>...</th>\n",
       "      <th>team2_defensive_derived_var_10</th>\n",
       "      <th>team2_offensive_derived_var_11</th>\n",
       "      <th>team2_offensive_derived_var_12</th>\n",
       "      <th>team2_offensive_derived_var_13</th>\n",
       "      <th>team2_offensive_derived_var_14</th>\n",
       "      <th>team2_defensive_derived_var_15</th>\n",
       "      <th>team2_offensive_derived_var_16</th>\n",
       "      <th>team2_defensive_derived_var_17</th>\n",
       "      <th>team2_offensive_derived_var_18</th>\n",
       "      <th>team2_offensive_derived_var_19</th>\n",
       "    </tr>\n",
       "  </thead>\n",
       "  <tbody>\n",
       "    <tr>\n",
       "      <th>0</th>\n",
       "      <td>14785</td>\n",
       "      <td>16</td>\n",
       "      <td>draw</td>\n",
       "      <td>team1</td>\n",
       "      <td>7.00</td>\n",
       "      <td>4.00</td>\n",
       "      <td>4.00</td>\n",
       "      <td>0.32</td>\n",
       "      <td>0.44</td>\n",
       "      <td>0.00</td>\n",
       "      <td>...</td>\n",
       "      <td>0.27</td>\n",
       "      <td>0.19</td>\n",
       "      <td>0.31</td>\n",
       "      <td>0.63</td>\n",
       "      <td>0.41</td>\n",
       "      <td>0.31</td>\n",
       "      <td>0.11</td>\n",
       "      <td>0.45</td>\n",
       "      <td>0.30</td>\n",
       "      <td>0.33</td>\n",
       "    </tr>\n",
       "    <tr>\n",
       "      <th>1</th>\n",
       "      <td>15125</td>\n",
       "      <td>2</td>\n",
       "      <td>draw</td>\n",
       "      <td>team1</td>\n",
       "      <td>9.00</td>\n",
       "      <td>11.00</td>\n",
       "      <td>11.00</td>\n",
       "      <td>0.56</td>\n",
       "      <td>0.60</td>\n",
       "      <td>0.00</td>\n",
       "      <td>...</td>\n",
       "      <td>0.35</td>\n",
       "      <td>0.20</td>\n",
       "      <td>0.25</td>\n",
       "      <td>0.54</td>\n",
       "      <td>0.49</td>\n",
       "      <td>0.49</td>\n",
       "      <td>0.11</td>\n",
       "      <td>0.50</td>\n",
       "      <td>0.38</td>\n",
       "      <td>0.50</td>\n",
       "    </tr>\n",
       "    <tr>\n",
       "      <th>2</th>\n",
       "      <td>13095</td>\n",
       "      <td>16</td>\n",
       "      <td>loser</td>\n",
       "      <td>team2</td>\n",
       "      <td>10.00</td>\n",
       "      <td>19.00</td>\n",
       "      <td>19.00</td>\n",
       "      <td>0.20</td>\n",
       "      <td>0.30</td>\n",
       "      <td>0.00</td>\n",
       "      <td>...</td>\n",
       "      <td>0.35</td>\n",
       "      <td>0.18</td>\n",
       "      <td>0.26</td>\n",
       "      <td>0.65</td>\n",
       "      <td>0.57</td>\n",
       "      <td>0.49</td>\n",
       "      <td>0.06</td>\n",
       "      <td>0.25</td>\n",
       "      <td>0.59</td>\n",
       "      <td>0.27</td>\n",
       "    </tr>\n",
       "    <tr>\n",
       "      <th>3</th>\n",
       "      <td>6079</td>\n",
       "      <td>16</td>\n",
       "      <td>loser</td>\n",
       "      <td>team1</td>\n",
       "      <td>11.00</td>\n",
       "      <td>3.00</td>\n",
       "      <td>9.00</td>\n",
       "      <td>0.34</td>\n",
       "      <td>0.30</td>\n",
       "      <td>0.00</td>\n",
       "      <td>...</td>\n",
       "      <td>0.50</td>\n",
       "      <td>0.31</td>\n",
       "      <td>0.41</td>\n",
       "      <td>0.49</td>\n",
       "      <td>0.59</td>\n",
       "      <td>0.61</td>\n",
       "      <td>0.29</td>\n",
       "      <td>0.32</td>\n",
       "      <td>0.69</td>\n",
       "      <td>0.29</td>\n",
       "    </tr>\n",
       "    <tr>\n",
       "      <th>4</th>\n",
       "      <td>16584</td>\n",
       "      <td>11</td>\n",
       "      <td>winner</td>\n",
       "      <td>team1</td>\n",
       "      <td>5.00</td>\n",
       "      <td>4.00</td>\n",
       "      <td>4.00</td>\n",
       "      <td>0.59</td>\n",
       "      <td>0.70</td>\n",
       "      <td>0.20</td>\n",
       "      <td>...</td>\n",
       "      <td>0.40</td>\n",
       "      <td>0.19</td>\n",
       "      <td>0.04</td>\n",
       "      <td>0.84</td>\n",
       "      <td>0.69</td>\n",
       "      <td>0.52</td>\n",
       "      <td>0.09</td>\n",
       "      <td>0.44</td>\n",
       "      <td>0.48</td>\n",
       "      <td>0.44</td>\n",
       "    </tr>\n",
       "  </tbody>\n",
       "</table>\n",
       "<p>5 rows × 799 columns</p>\n",
       "</div>"
      ],
      "text/plain": [
       "   row_id  scout_id  winner   team  competitionId  player_position_1  \\\n",
       "0   14785        16    draw  team1           7.00               4.00   \n",
       "1   15125         2    draw  team1           9.00              11.00   \n",
       "2   13095        16   loser  team2          10.00              19.00   \n",
       "3    6079        16   loser  team1          11.00               3.00   \n",
       "4   16584        11  winner  team1           5.00               4.00   \n",
       "\n",
       "   player_position_2  player_height  player_weight  player_general_var_0  ...  \\\n",
       "0               4.00           0.32           0.44                  0.00  ...   \n",
       "1              11.00           0.56           0.60                  0.00  ...   \n",
       "2              19.00           0.20           0.30                  0.00  ...   \n",
       "3               9.00           0.34           0.30                  0.00  ...   \n",
       "4               4.00           0.59           0.70                  0.20  ...   \n",
       "\n",
       "   team2_defensive_derived_var_10  team2_offensive_derived_var_11  \\\n",
       "0                            0.27                            0.19   \n",
       "1                            0.35                            0.20   \n",
       "2                            0.35                            0.18   \n",
       "3                            0.50                            0.31   \n",
       "4                            0.40                            0.19   \n",
       "\n",
       "   team2_offensive_derived_var_12  team2_offensive_derived_var_13  \\\n",
       "0                            0.31                            0.63   \n",
       "1                            0.25                            0.54   \n",
       "2                            0.26                            0.65   \n",
       "3                            0.41                            0.49   \n",
       "4                            0.04                            0.84   \n",
       "\n",
       "   team2_offensive_derived_var_14  team2_defensive_derived_var_15  \\\n",
       "0                            0.41                            0.31   \n",
       "1                            0.49                            0.49   \n",
       "2                            0.57                            0.49   \n",
       "3                            0.59                            0.61   \n",
       "4                            0.69                            0.52   \n",
       "\n",
       "   team2_offensive_derived_var_16  team2_defensive_derived_var_17  \\\n",
       "0                            0.11                            0.45   \n",
       "1                            0.11                            0.50   \n",
       "2                            0.06                            0.25   \n",
       "3                            0.29                            0.32   \n",
       "4                            0.09                            0.44   \n",
       "\n",
       "   team2_offensive_derived_var_18  team2_offensive_derived_var_19  \n",
       "0                            0.30                            0.33  \n",
       "1                            0.38                            0.50  \n",
       "2                            0.59                            0.27  \n",
       "3                            0.69                            0.29  \n",
       "4                            0.48                            0.44  \n",
       "\n",
       "[5 rows x 799 columns]"
      ]
     },
     "execution_count": 27,
     "metadata": {},
     "output_type": "execute_result"
    }
   ],
   "source": [
    "test_dataset.head()"
   ]
  },
  {
   "cell_type": "code",
   "execution_count": 16,
   "id": "ad9ccfd9",
   "metadata": {},
   "outputs": [],
   "source": [
    "train_dataset = pd.read_csv(r'../data/raw/train.csv')"
   ]
  },
  {
   "cell_type": "code",
   "execution_count": 18,
   "id": "2372854d",
   "metadata": {},
   "outputs": [],
   "source": [
    "submission_dataset = pd.read_csv(r'../data/raw/sample_submission_wBWLI0s.csv')"
   ]
  },
  {
   "cell_type": "code",
   "execution_count": 28,
   "id": "94fa9bbd",
   "metadata": {},
   "outputs": [
    {
     "data": {
      "text/html": [
       "<div>\n",
       "<style scoped>\n",
       "    .dataframe tbody tr th:only-of-type {\n",
       "        vertical-align: middle;\n",
       "    }\n",
       "\n",
       "    .dataframe tbody tr th {\n",
       "        vertical-align: top;\n",
       "    }\n",
       "\n",
       "    .dataframe thead th {\n",
       "        text-align: right;\n",
       "    }\n",
       "</style>\n",
       "<table border=\"1\" class=\"dataframe\">\n",
       "  <thead>\n",
       "    <tr style=\"text-align: right;\">\n",
       "      <th></th>\n",
       "      <th>row_id</th>\n",
       "      <th>rating_num</th>\n",
       "    </tr>\n",
       "  </thead>\n",
       "  <tbody>\n",
       "    <tr>\n",
       "      <th>0</th>\n",
       "      <td>14785</td>\n",
       "      <td>7</td>\n",
       "    </tr>\n",
       "    <tr>\n",
       "      <th>1</th>\n",
       "      <td>15125</td>\n",
       "      <td>7</td>\n",
       "    </tr>\n",
       "    <tr>\n",
       "      <th>2</th>\n",
       "      <td>13095</td>\n",
       "      <td>7</td>\n",
       "    </tr>\n",
       "    <tr>\n",
       "      <th>3</th>\n",
       "      <td>6079</td>\n",
       "      <td>7</td>\n",
       "    </tr>\n",
       "    <tr>\n",
       "      <th>4</th>\n",
       "      <td>16584</td>\n",
       "      <td>7</td>\n",
       "    </tr>\n",
       "  </tbody>\n",
       "</table>\n",
       "</div>"
      ],
      "text/plain": [
       "   row_id  rating_num\n",
       "0   14785           7\n",
       "1   15125           7\n",
       "2   13095           7\n",
       "3    6079           7\n",
       "4   16584           7"
      ]
     },
     "execution_count": 28,
     "metadata": {},
     "output_type": "execute_result"
    }
   ],
   "source": [
    "submission_dataset.head()"
   ]
  },
  {
   "cell_type": "markdown",
   "id": "f759f17c",
   "metadata": {},
   "source": [
    "#  2.0. Description Data"
   ]
  },
  {
   "cell_type": "code",
   "execution_count": 20,
   "id": "7a47c300",
   "metadata": {},
   "outputs": [],
   "source": [
    "df1 = train_dataset.copy()"
   ]
  },
  {
   "cell_type": "code",
   "execution_count": 21,
   "id": "96922080",
   "metadata": {},
   "outputs": [
    {
     "data": {
      "text/html": [
       "<div>\n",
       "<style scoped>\n",
       "    .dataframe tbody tr th:only-of-type {\n",
       "        vertical-align: middle;\n",
       "    }\n",
       "\n",
       "    .dataframe tbody tr th {\n",
       "        vertical-align: top;\n",
       "    }\n",
       "\n",
       "    .dataframe thead th {\n",
       "        text-align: right;\n",
       "    }\n",
       "</style>\n",
       "<table border=\"1\" class=\"dataframe\">\n",
       "  <thead>\n",
       "    <tr style=\"text-align: right;\">\n",
       "      <th></th>\n",
       "      <th>row_id</th>\n",
       "      <th>scout_id</th>\n",
       "      <th>rating_num</th>\n",
       "      <th>winner</th>\n",
       "      <th>team</th>\n",
       "      <th>competitionId</th>\n",
       "      <th>player_position_1</th>\n",
       "      <th>player_position_2</th>\n",
       "      <th>player_height</th>\n",
       "      <th>player_weight</th>\n",
       "      <th>...</th>\n",
       "      <th>team2_defensive_derived_var_10</th>\n",
       "      <th>team2_offensive_derived_var_11</th>\n",
       "      <th>team2_offensive_derived_var_12</th>\n",
       "      <th>team2_offensive_derived_var_13</th>\n",
       "      <th>team2_offensive_derived_var_14</th>\n",
       "      <th>team2_defensive_derived_var_15</th>\n",
       "      <th>team2_offensive_derived_var_16</th>\n",
       "      <th>team2_defensive_derived_var_17</th>\n",
       "      <th>team2_offensive_derived_var_18</th>\n",
       "      <th>team2_offensive_derived_var_19</th>\n",
       "    </tr>\n",
       "  </thead>\n",
       "  <tbody>\n",
       "    <tr>\n",
       "      <th>0</th>\n",
       "      <td>1</td>\n",
       "      <td>13</td>\n",
       "      <td>7.00</td>\n",
       "      <td>winner</td>\n",
       "      <td>team1</td>\n",
       "      <td>8</td>\n",
       "      <td>7.00</td>\n",
       "      <td>7.00</td>\n",
       "      <td>0.32</td>\n",
       "      <td>0.48</td>\n",
       "      <td>...</td>\n",
       "      <td>0.19</td>\n",
       "      <td>0.13</td>\n",
       "      <td>0.10</td>\n",
       "      <td>0.60</td>\n",
       "      <td>0.34</td>\n",
       "      <td>0.35</td>\n",
       "      <td>0.03</td>\n",
       "      <td>0.29</td>\n",
       "      <td>0.31</td>\n",
       "      <td>0.20</td>\n",
       "    </tr>\n",
       "    <tr>\n",
       "      <th>1</th>\n",
       "      <td>3</td>\n",
       "      <td>16</td>\n",
       "      <td>6.50</td>\n",
       "      <td>loser</td>\n",
       "      <td>team2</td>\n",
       "      <td>8</td>\n",
       "      <td>3.00</td>\n",
       "      <td>9.00</td>\n",
       "      <td>0.46</td>\n",
       "      <td>0.42</td>\n",
       "      <td>...</td>\n",
       "      <td>0.19</td>\n",
       "      <td>0.17</td>\n",
       "      <td>0.27</td>\n",
       "      <td>0.61</td>\n",
       "      <td>0.53</td>\n",
       "      <td>0.47</td>\n",
       "      <td>0.05</td>\n",
       "      <td>0.33</td>\n",
       "      <td>0.38</td>\n",
       "      <td>0.30</td>\n",
       "    </tr>\n",
       "    <tr>\n",
       "      <th>2</th>\n",
       "      <td>4</td>\n",
       "      <td>4</td>\n",
       "      <td>8.50</td>\n",
       "      <td>loser</td>\n",
       "      <td>team1</td>\n",
       "      <td>5</td>\n",
       "      <td>11.00</td>\n",
       "      <td>11.00</td>\n",
       "      <td>0.68</td>\n",
       "      <td>0.44</td>\n",
       "      <td>...</td>\n",
       "      <td>0.31</td>\n",
       "      <td>0.25</td>\n",
       "      <td>0.21</td>\n",
       "      <td>0.56</td>\n",
       "      <td>0.69</td>\n",
       "      <td>0.44</td>\n",
       "      <td>0.22</td>\n",
       "      <td>0.41</td>\n",
       "      <td>0.57</td>\n",
       "      <td>0.44</td>\n",
       "    </tr>\n",
       "    <tr>\n",
       "      <th>3</th>\n",
       "      <td>5</td>\n",
       "      <td>13</td>\n",
       "      <td>8.00</td>\n",
       "      <td>loser</td>\n",
       "      <td>team2</td>\n",
       "      <td>4</td>\n",
       "      <td>17.00</td>\n",
       "      <td>17.00</td>\n",
       "      <td>0.68</td>\n",
       "      <td>0.58</td>\n",
       "      <td>...</td>\n",
       "      <td>0.28</td>\n",
       "      <td>0.16</td>\n",
       "      <td>0.21</td>\n",
       "      <td>0.53</td>\n",
       "      <td>0.37</td>\n",
       "      <td>0.53</td>\n",
       "      <td>0.10</td>\n",
       "      <td>0.42</td>\n",
       "      <td>0.33</td>\n",
       "      <td>0.24</td>\n",
       "    </tr>\n",
       "    <tr>\n",
       "      <th>4</th>\n",
       "      <td>7</td>\n",
       "      <td>11</td>\n",
       "      <td>3.50</td>\n",
       "      <td>draw</td>\n",
       "      <td>team1</td>\n",
       "      <td>5</td>\n",
       "      <td>10.00</td>\n",
       "      <td>10.00</td>\n",
       "      <td>0.73</td>\n",
       "      <td>0.70</td>\n",
       "      <td>...</td>\n",
       "      <td>0.45</td>\n",
       "      <td>0.20</td>\n",
       "      <td>0.13</td>\n",
       "      <td>0.69</td>\n",
       "      <td>0.68</td>\n",
       "      <td>0.73</td>\n",
       "      <td>0.13</td>\n",
       "      <td>0.45</td>\n",
       "      <td>0.44</td>\n",
       "      <td>0.31</td>\n",
       "    </tr>\n",
       "  </tbody>\n",
       "</table>\n",
       "<p>5 rows × 800 columns</p>\n",
       "</div>"
      ],
      "text/plain": [
       "   row_id  scout_id  rating_num  winner   team  competitionId  \\\n",
       "0       1        13        7.00  winner  team1              8   \n",
       "1       3        16        6.50   loser  team2              8   \n",
       "2       4         4        8.50   loser  team1              5   \n",
       "3       5        13        8.00   loser  team2              4   \n",
       "4       7        11        3.50    draw  team1              5   \n",
       "\n",
       "   player_position_1  player_position_2  player_height  player_weight  ...  \\\n",
       "0               7.00               7.00           0.32           0.48  ...   \n",
       "1               3.00               9.00           0.46           0.42  ...   \n",
       "2              11.00              11.00           0.68           0.44  ...   \n",
       "3              17.00              17.00           0.68           0.58  ...   \n",
       "4              10.00              10.00           0.73           0.70  ...   \n",
       "\n",
       "   team2_defensive_derived_var_10  team2_offensive_derived_var_11  \\\n",
       "0                            0.19                            0.13   \n",
       "1                            0.19                            0.17   \n",
       "2                            0.31                            0.25   \n",
       "3                            0.28                            0.16   \n",
       "4                            0.45                            0.20   \n",
       "\n",
       "   team2_offensive_derived_var_12  team2_offensive_derived_var_13  \\\n",
       "0                            0.10                            0.60   \n",
       "1                            0.27                            0.61   \n",
       "2                            0.21                            0.56   \n",
       "3                            0.21                            0.53   \n",
       "4                            0.13                            0.69   \n",
       "\n",
       "   team2_offensive_derived_var_14  team2_defensive_derived_var_15  \\\n",
       "0                            0.34                            0.35   \n",
       "1                            0.53                            0.47   \n",
       "2                            0.69                            0.44   \n",
       "3                            0.37                            0.53   \n",
       "4                            0.68                            0.73   \n",
       "\n",
       "   team2_offensive_derived_var_16  team2_defensive_derived_var_17  \\\n",
       "0                            0.03                            0.29   \n",
       "1                            0.05                            0.33   \n",
       "2                            0.22                            0.41   \n",
       "3                            0.10                            0.42   \n",
       "4                            0.13                            0.45   \n",
       "\n",
       "   team2_offensive_derived_var_18  team2_offensive_derived_var_19  \n",
       "0                            0.31                            0.20  \n",
       "1                            0.38                            0.30  \n",
       "2                            0.57                            0.44  \n",
       "3                            0.33                            0.24  \n",
       "4                            0.44                            0.31  \n",
       "\n",
       "[5 rows x 800 columns]"
      ]
     },
     "execution_count": 21,
     "metadata": {},
     "output_type": "execute_result"
    }
   ],
   "source": [
    "df1.head()"
   ]
  },
  {
   "cell_type": "code",
   "execution_count": 22,
   "id": "a1b5b031",
   "metadata": {},
   "outputs": [
    {
     "data": {
      "text/plain": [
       "Index(['row_id', 'scout_id', 'rating_num', 'winner', 'team', 'competitionId',\n",
       "       'player_position_1', 'player_position_2', 'player_height',\n",
       "       'player_weight',\n",
       "       ...\n",
       "       'team2_defensive_derived_var_10', 'team2_offensive_derived_var_11',\n",
       "       'team2_offensive_derived_var_12', 'team2_offensive_derived_var_13',\n",
       "       'team2_offensive_derived_var_14', 'team2_defensive_derived_var_15',\n",
       "       'team2_offensive_derived_var_16', 'team2_defensive_derived_var_17',\n",
       "       'team2_offensive_derived_var_18', 'team2_offensive_derived_var_19'],\n",
       "      dtype='object', length=800)"
      ]
     },
     "execution_count": 22,
     "metadata": {},
     "output_type": "execute_result"
    }
   ],
   "source": [
    "df1.columns"
   ]
  },
  {
   "cell_type": "markdown",
   "id": "89898f26",
   "metadata": {},
   "source": [
    "## 2.1. Dimensions Data"
   ]
  },
  {
   "cell_type": "code",
   "execution_count": 25,
   "id": "285812fe",
   "metadata": {},
   "outputs": [
    {
     "name": "stdout",
     "output_type": "stream",
     "text": [
      "Number of rows: 20453\n",
      "Number of columns: 800\n"
     ]
    }
   ],
   "source": [
    "print('Number of rows: {}'.format(df1.shape[0]))\n",
    "print('Number of columns: {}'.format(df1.shape[1]))"
   ]
  },
  {
   "cell_type": "markdown",
   "id": "624e3b19",
   "metadata": {},
   "source": [
    "## 2.2. Data Types"
   ]
  },
  {
   "cell_type": "code",
   "execution_count": 26,
   "id": "59ef44ef",
   "metadata": {},
   "outputs": [
    {
     "data": {
      "text/plain": [
       "row_id                              int64\n",
       "scout_id                            int64\n",
       "rating_num                        float64\n",
       "winner                             object\n",
       "team                               object\n",
       "                                   ...   \n",
       "team2_defensive_derived_var_15    float64\n",
       "team2_offensive_derived_var_16    float64\n",
       "team2_defensive_derived_var_17    float64\n",
       "team2_offensive_derived_var_18    float64\n",
       "team2_offensive_derived_var_19    float64\n",
       "Length: 800, dtype: object"
      ]
     },
     "execution_count": 26,
     "metadata": {},
     "output_type": "execute_result"
    }
   ],
   "source": [
    "df1.dtypes"
   ]
  },
  {
   "cell_type": "markdown",
   "id": "9ff490ca",
   "metadata": {},
   "source": [
    "## 2.3. Check NA"
   ]
  },
  {
   "cell_type": "code",
   "execution_count": 31,
   "id": "1347490a",
   "metadata": {},
   "outputs": [
    {
     "data": {
      "text/plain": [
       "row_id                           0.00\n",
       "scout_id                         0.00\n",
       "rating_num                       0.00\n",
       "winner                           0.00\n",
       "team                             0.00\n",
       "                                 ... \n",
       "team2_defensive_derived_var_15   0.00\n",
       "team2_offensive_derived_var_16   0.00\n",
       "team2_defensive_derived_var_17   0.00\n",
       "team2_offensive_derived_var_18   0.00\n",
       "team2_offensive_derived_var_19   0.00\n",
       "Length: 800, dtype: float64"
      ]
     },
     "execution_count": 31,
     "metadata": {},
     "output_type": "execute_result"
    }
   ],
   "source": [
    "df1.isna().sum()"
   ]
  },
  {
   "cell_type": "markdown",
   "id": "e992792e",
   "metadata": {},
   "source": [
    "## 2.4. Replace NA"
   ]
  },
  {
   "cell_type": "code",
   "execution_count": 30,
   "id": "79395257",
   "metadata": {},
   "outputs": [],
   "source": [
    "df1 = df1.dropna()"
   ]
  },
  {
   "cell_type": "markdown",
   "id": "2e4e227f",
   "metadata": {},
   "source": [
    "## 2.5. Changes dtypes"
   ]
  },
  {
   "cell_type": "code",
   "execution_count": null,
   "id": "0ab70ad9",
   "metadata": {},
   "outputs": [],
   "source": []
  },
  {
   "cell_type": "markdown",
   "id": "41ad9583",
   "metadata": {
    "heading_collapsed": true
   },
   "source": [
    "## 2.6. Descriptive Statistics"
   ]
  },
  {
   "cell_type": "markdown",
   "id": "2d4cbe60",
   "metadata": {
    "hidden": true
   },
   "source": [
    "###  2.6.1. Numerical Attributs"
   ]
  },
  {
   "cell_type": "code",
   "execution_count": null,
   "id": "b6d95796",
   "metadata": {
    "hidden": true
   },
   "outputs": [],
   "source": []
  },
  {
   "cell_type": "markdown",
   "id": "9c5f65aa",
   "metadata": {
    "hidden": true
   },
   "source": [
    "### 2.6.2 Categorical Attributs\n"
   ]
  },
  {
   "cell_type": "code",
   "execution_count": null,
   "id": "0d230afb",
   "metadata": {
    "hidden": true
   },
   "outputs": [],
   "source": []
  },
  {
   "cell_type": "markdown",
   "id": "dbd63d4b",
   "metadata": {
    "heading_collapsed": true
   },
   "source": [
    "# 3.0. Variable Filtering"
   ]
  },
  {
   "cell_type": "code",
   "execution_count": null,
   "id": "48e99a80",
   "metadata": {
    "hidden": true
   },
   "outputs": [],
   "source": []
  },
  {
   "cell_type": "markdown",
   "id": "5abb9482",
   "metadata": {
    "heading_collapsed": true
   },
   "source": [
    "# 4.0. Feature Engeneering"
   ]
  },
  {
   "cell_type": "code",
   "execution_count": null,
   "id": "98a48a41",
   "metadata": {
    "hidden": true
   },
   "outputs": [],
   "source": []
  },
  {
   "cell_type": "markdown",
   "id": "9d8afa67",
   "metadata": {
    "hidden": true
   },
   "source": [
    "## 4.1. Feature Creation"
   ]
  },
  {
   "cell_type": "code",
   "execution_count": null,
   "id": "124d507c",
   "metadata": {
    "hidden": true
   },
   "outputs": [],
   "source": []
  },
  {
   "cell_type": "markdown",
   "id": "ecafaa15",
   "metadata": {
    "heading_collapsed": true
   },
   "source": [
    "# 5.0. EDA (Exploratory Data Analysis)"
   ]
  },
  {
   "cell_type": "code",
   "execution_count": null,
   "id": "b1ecba9d",
   "metadata": {
    "hidden": true
   },
   "outputs": [],
   "source": []
  },
  {
   "cell_type": "markdown",
   "id": "a53ca816",
   "metadata": {
    "heading_collapsed": true
   },
   "source": [
    "# 6.0. Data Preparation"
   ]
  },
  {
   "cell_type": "code",
   "execution_count": null,
   "id": "fa5528b2",
   "metadata": {
    "hidden": true
   },
   "outputs": [],
   "source": []
  },
  {
   "cell_type": "markdown",
   "id": "d4a0c993",
   "metadata": {
    "heading_collapsed": true
   },
   "source": [
    "# 7.0. Feature Selection"
   ]
  },
  {
   "cell_type": "code",
   "execution_count": null,
   "id": "a1541e1c",
   "metadata": {
    "hidden": true
   },
   "outputs": [],
   "source": []
  },
  {
   "cell_type": "markdown",
   "id": "f898e317",
   "metadata": {
    "heading_collapsed": true
   },
   "source": [
    "# 8.0. Hyperparameter Fine-Tunning"
   ]
  },
  {
   "cell_type": "code",
   "execution_count": null,
   "id": "945cee74",
   "metadata": {
    "hidden": true
   },
   "outputs": [],
   "source": []
  },
  {
   "cell_type": "markdown",
   "id": "b4e824f6",
   "metadata": {
    "heading_collapsed": true
   },
   "source": [
    "# 9.0. Model Training "
   ]
  },
  {
   "cell_type": "code",
   "execution_count": null,
   "id": "14a418e7",
   "metadata": {
    "hidden": true
   },
   "outputs": [],
   "source": []
  },
  {
   "cell_type": "markdown",
   "id": "fc3aca90",
   "metadata": {
    "heading_collapsed": true
   },
   "source": [
    "# 10. Results"
   ]
  },
  {
   "cell_type": "code",
   "execution_count": null,
   "id": "f961d3c4",
   "metadata": {
    "hidden": true
   },
   "outputs": [],
   "source": []
  }
 ],
 "metadata": {
  "kernelspec": {
   "display_name": "Python 3 (ipykernel)",
   "language": "python",
   "name": "python3"
  },
  "language_info": {
   "codemirror_mode": {
    "name": "ipython",
    "version": 3
   },
   "file_extension": ".py",
   "mimetype": "text/x-python",
   "name": "python",
   "nbconvert_exporter": "python",
   "pygments_lexer": "ipython3",
   "version": "3.9.7"
  },
  "toc": {
   "base_numbering": 1,
   "nav_menu": {},
   "number_sections": false,
   "sideBar": true,
   "skip_h1_title": false,
   "title_cell": "Table of Contents",
   "title_sidebar": "Contents",
   "toc_cell": false,
   "toc_position": {},
   "toc_section_display": true,
   "toc_window_display": false
  },
  "varInspector": {
   "cols": {
    "lenName": 16,
    "lenType": 16,
    "lenVar": 40
   },
   "kernels_config": {
    "python": {
     "delete_cmd_postfix": "",
     "delete_cmd_prefix": "del ",
     "library": "var_list.py",
     "varRefreshCmd": "print(var_dic_list())"
    },
    "r": {
     "delete_cmd_postfix": ") ",
     "delete_cmd_prefix": "rm(",
     "library": "var_list.r",
     "varRefreshCmd": "cat(var_dic_list()) "
    }
   },
   "types_to_exclude": [
    "module",
    "function",
    "builtin_function_or_method",
    "instance",
    "_Feature"
   ],
   "window_display": false
  }
 },
 "nbformat": 4,
 "nbformat_minor": 5
}
